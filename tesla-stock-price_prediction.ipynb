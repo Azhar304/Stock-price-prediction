{
 "cells": [
  {
   "cell_type": "code",
   "execution_count": 46,
   "metadata": {},
   "outputs": [],
   "source": [
    "import numpy as np\n",
    "import pandas as pd\n",
    "from sklearn.model_selection import train_test_split\n",
    "from sklearn.linear_model import LinearRegression\n",
    "from sklearn.preprocessing import StandardScaler\n",
    "from sklearn.metrics import mean_squared_error, r2_score\n",
    "import matplotlib.pyplot as plt"
   ]
  },
  {
   "cell_type": "code",
   "execution_count": 47,
   "metadata": {},
   "outputs": [],
   "source": [
    "data=pd.read_csv('tesla-stock-price.csv')"
   ]
  },
  {
   "cell_type": "code",
   "execution_count": 48,
   "metadata": {},
   "outputs": [
    {
     "data": {
      "text/html": [
       "<div>\n",
       "<style scoped>\n",
       "    .dataframe tbody tr th:only-of-type {\n",
       "        vertical-align: middle;\n",
       "    }\n",
       "\n",
       "    .dataframe tbody tr th {\n",
       "        vertical-align: top;\n",
       "    }\n",
       "\n",
       "    .dataframe thead th {\n",
       "        text-align: right;\n",
       "    }\n",
       "</style>\n",
       "<table border=\"1\" class=\"dataframe\">\n",
       "  <thead>\n",
       "    <tr style=\"text-align: right;\">\n",
       "      <th></th>\n",
       "      <th>date</th>\n",
       "      <th>close</th>\n",
       "      <th>volume</th>\n",
       "      <th>open</th>\n",
       "      <th>high</th>\n",
       "      <th>low</th>\n",
       "    </tr>\n",
       "  </thead>\n",
       "  <tbody>\n",
       "    <tr>\n",
       "      <th>0</th>\n",
       "      <td>11:34</td>\n",
       "      <td>270.49</td>\n",
       "      <td>4,787,699</td>\n",
       "      <td>264.50</td>\n",
       "      <td>273.88</td>\n",
       "      <td>262.2400</td>\n",
       "    </tr>\n",
       "    <tr>\n",
       "      <th>1</th>\n",
       "      <td>2018/10/15</td>\n",
       "      <td>259.59</td>\n",
       "      <td>6189026.0000</td>\n",
       "      <td>259.06</td>\n",
       "      <td>263.28</td>\n",
       "      <td>254.5367</td>\n",
       "    </tr>\n",
       "    <tr>\n",
       "      <th>2</th>\n",
       "      <td>2018/10/12</td>\n",
       "      <td>258.78</td>\n",
       "      <td>7189257.0000</td>\n",
       "      <td>261.00</td>\n",
       "      <td>261.99</td>\n",
       "      <td>252.0100</td>\n",
       "    </tr>\n",
       "    <tr>\n",
       "      <th>3</th>\n",
       "      <td>2018/10/11</td>\n",
       "      <td>252.23</td>\n",
       "      <td>8128184.0000</td>\n",
       "      <td>257.53</td>\n",
       "      <td>262.25</td>\n",
       "      <td>249.0300</td>\n",
       "    </tr>\n",
       "    <tr>\n",
       "      <th>4</th>\n",
       "      <td>2018/10/10</td>\n",
       "      <td>256.88</td>\n",
       "      <td>12781560.0000</td>\n",
       "      <td>264.61</td>\n",
       "      <td>265.51</td>\n",
       "      <td>247.7700</td>\n",
       "    </tr>\n",
       "  </tbody>\n",
       "</table>\n",
       "</div>"
      ],
      "text/plain": [
       "         date   close         volume    open    high       low\n",
       "0       11:34  270.49      4,787,699  264.50  273.88  262.2400\n",
       "1  2018/10/15  259.59   6189026.0000  259.06  263.28  254.5367\n",
       "2  2018/10/12  258.78   7189257.0000  261.00  261.99  252.0100\n",
       "3  2018/10/11  252.23   8128184.0000  257.53  262.25  249.0300\n",
       "4  2018/10/10  256.88  12781560.0000  264.61  265.51  247.7700"
      ]
     },
     "execution_count": 48,
     "metadata": {},
     "output_type": "execute_result"
    }
   ],
   "source": [
    "data.head(5)"
   ]
  },
  {
   "cell_type": "code",
   "execution_count": 49,
   "metadata": {},
   "outputs": [
    {
     "data": {
      "text/html": [
       "<div>\n",
       "<style scoped>\n",
       "    .dataframe tbody tr th:only-of-type {\n",
       "        vertical-align: middle;\n",
       "    }\n",
       "\n",
       "    .dataframe tbody tr th {\n",
       "        vertical-align: top;\n",
       "    }\n",
       "\n",
       "    .dataframe thead th {\n",
       "        text-align: right;\n",
       "    }\n",
       "</style>\n",
       "<table border=\"1\" class=\"dataframe\">\n",
       "  <thead>\n",
       "    <tr style=\"text-align: right;\">\n",
       "      <th></th>\n",
       "      <th>close</th>\n",
       "      <th>open</th>\n",
       "      <th>high</th>\n",
       "      <th>low</th>\n",
       "    </tr>\n",
       "  </thead>\n",
       "  <tbody>\n",
       "    <tr>\n",
       "      <th>count</th>\n",
       "      <td>757.000000</td>\n",
       "      <td>757.000000</td>\n",
       "      <td>757.000000</td>\n",
       "      <td>757.000000</td>\n",
       "    </tr>\n",
       "    <tr>\n",
       "      <th>mean</th>\n",
       "      <td>272.645614</td>\n",
       "      <td>272.760659</td>\n",
       "      <td>277.122776</td>\n",
       "      <td>268.017399</td>\n",
       "    </tr>\n",
       "    <tr>\n",
       "      <th>std</th>\n",
       "      <td>58.378585</td>\n",
       "      <td>58.449827</td>\n",
       "      <td>59.194761</td>\n",
       "      <td>57.515736</td>\n",
       "    </tr>\n",
       "    <tr>\n",
       "      <th>min</th>\n",
       "      <td>143.670000</td>\n",
       "      <td>142.320000</td>\n",
       "      <td>154.970000</td>\n",
       "      <td>141.050000</td>\n",
       "    </tr>\n",
       "    <tr>\n",
       "      <th>25%</th>\n",
       "      <td>219.560000</td>\n",
       "      <td>219.640000</td>\n",
       "      <td>222.569000</td>\n",
       "      <td>216.080000</td>\n",
       "    </tr>\n",
       "    <tr>\n",
       "      <th>50%</th>\n",
       "      <td>277.450000</td>\n",
       "      <td>277.625000</td>\n",
       "      <td>280.789900</td>\n",
       "      <td>273.550000</td>\n",
       "    </tr>\n",
       "    <tr>\n",
       "      <th>75%</th>\n",
       "      <td>322.690000</td>\n",
       "      <td>321.560000</td>\n",
       "      <td>327.120000</td>\n",
       "      <td>316.560100</td>\n",
       "    </tr>\n",
       "    <tr>\n",
       "      <th>max</th>\n",
       "      <td>385.000000</td>\n",
       "      <td>386.690000</td>\n",
       "      <td>389.610000</td>\n",
       "      <td>379.345000</td>\n",
       "    </tr>\n",
       "  </tbody>\n",
       "</table>\n",
       "</div>"
      ],
      "text/plain": [
       "            close        open        high         low\n",
       "count  757.000000  757.000000  757.000000  757.000000\n",
       "mean   272.645614  272.760659  277.122776  268.017399\n",
       "std     58.378585   58.449827   59.194761   57.515736\n",
       "min    143.670000  142.320000  154.970000  141.050000\n",
       "25%    219.560000  219.640000  222.569000  216.080000\n",
       "50%    277.450000  277.625000  280.789900  273.550000\n",
       "75%    322.690000  321.560000  327.120000  316.560100\n",
       "max    385.000000  386.690000  389.610000  379.345000"
      ]
     },
     "execution_count": 49,
     "metadata": {},
     "output_type": "execute_result"
    }
   ],
   "source": [
    "data.describe()"
   ]
  },
  {
   "cell_type": "code",
   "execution_count": 50,
   "metadata": {},
   "outputs": [
    {
     "data": {
      "text/plain": [
       "(757, 6)"
      ]
     },
     "execution_count": 50,
     "metadata": {},
     "output_type": "execute_result"
    }
   ],
   "source": [
    "data.shape"
   ]
  },
  {
   "cell_type": "code",
   "execution_count": 57,
   "metadata": {},
   "outputs": [],
   "source": [
    "data['volume'] = data['volume'].replace({',': ''}, regex=True).astype(float)\n",
    "\n",
    "data['date'] = pd.to_datetime(data['date'])\n",
    "data['date'] = data['date'].astype(int) / 10**9 \n",
    "\n",
    "features = ['date', 'open', 'high', 'low', 'volume']\n",
    "X = data[features]\n",
    "y = data['close']"
   ]
  },
  {
   "cell_type": "code",
   "execution_count": 59,
   "metadata": {},
   "outputs": [],
   "source": [
    "scaler = StandardScaler()\n",
    "X_scaled = scaler.fit_transform(X)"
   ]
  },
  {
   "cell_type": "code",
   "execution_count": 60,
   "metadata": {},
   "outputs": [],
   "source": [
    "X_train, X_test, y_train, y_test = train_test_split(X_scaled, y, test_size=0.2, random_state=42)\n",
    "\n"
   ]
  },
  {
   "cell_type": "code",
   "execution_count": 61,
   "metadata": {},
   "outputs": [],
   "source": [
    "model = LinearRegression()\n",
    "model.fit(X_train, y_train)\n",
    "predictions = model.predict(X_test)"
   ]
  },
  {
   "cell_type": "code",
   "execution_count": 62,
   "metadata": {},
   "outputs": [
    {
     "name": "stdout",
     "output_type": "stream",
     "text": [
      "Mean Squared Error: 7.127425961920859\n",
      "R-squared: 0.9978594514008232\n"
     ]
    }
   ],
   "source": [
    "mse = mean_squared_error(y_test, predictions)\n",
    "r2 = r2_score(y_test, predictions)\n",
    "\n",
    "print(f'Mean Squared Error: {mse}')\n",
    "print(f'R-squared: {r2}')"
   ]
  },
  {
   "cell_type": "code",
   "execution_count": 70,
   "metadata": {},
   "outputs": [
    {
     "name": "stdout",
     "output_type": "stream",
     "text": [
      "Prediction for new data: 297.4019803739722\n"
     ]
    }
   ],
   "source": [
    "new_data = pd.DataFrame({\n",
    "    'date': [pd.to_datetime('2018-9-20').value / 10**9],#10/12/2018\t7189257\t261\t261.99\t252.01\n",
    "    'open': [303],\n",
    "    'high': [305.98],\n",
    "    'low': [293],\n",
    "    'volume': [7332477]\n",
    "})\n",
    "\n",
    "new_data['volume'] = new_data['volume'].replace({',': ''}, regex=True).astype(float)\n",
    "new_data_scaled = scaler.transform(new_data)\n",
    "\n",
    "new_prediction = model.predict(new_data_scaled)\n",
    "print(f'Prediction for new data: {new_prediction[0]}')"
   ]
  },
  {
   "cell_type": "code",
   "execution_count": null,
   "metadata": {},
   "outputs": [],
   "source": []
  }
 ],
 "metadata": {
  "kernelspec": {
   "display_name": "Python 3",
   "language": "python",
   "name": "python3"
  },
  "language_info": {
   "codemirror_mode": {
    "name": "ipython",
    "version": 3
   },
   "file_extension": ".py",
   "mimetype": "text/x-python",
   "name": "python",
   "nbconvert_exporter": "python",
   "pygments_lexer": "ipython3",
   "version": "3.12.4"
  }
 },
 "nbformat": 4,
 "nbformat_minor": 2
}
